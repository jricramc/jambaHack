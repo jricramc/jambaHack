{
 "cells": [
  {
   "cell_type": "markdown",
   "metadata": {},
   "source": [
    "# Jamba 1.5 Family Function Calling Examples\n",
    "\n",
    "This notebook demonstrates single and multiple function calls to Jamba, showcasing how to extend Large Language Models (LLMs) with external capabilities. By integrating function calling, LLMs can access real-time data, perform specific tasks, and provide more accurate and relevant responses. This approach enhances LLMs' problem-solving abilities and reduces the risk of generating incorrect information."
   ]
  },
  {
   "cell_type": "markdown",
   "metadata": {},
   "source": [
    "### Import Required Libraries"
   ]
  },
  {
   "cell_type": "code",
   "execution_count": 2,
   "metadata": {},
   "outputs": [
    {
     "name": "stdout",
     "output_type": "stream",
     "text": [
      "Collecting ai21>=2.13.0\n",
      "  Downloading ai21-2.15.0-py3-none-any.whl.metadata (22 kB)\n",
      "Collecting ai21-tokenizer<1.0.0,>=0.12.0 (from ai21>=2.13.0)\n",
      "  Downloading ai21_tokenizer-0.12.0-py3-none-any.whl.metadata (6.5 kB)\n",
      "Requirement already satisfied: httpx<0.28.0,>=0.27.0 in /Users/joseramos/anaconda3/lib/python3.11/site-packages (from ai21>=2.13.0) (0.27.0)\n",
      "Requirement already satisfied: pydantic<3.0.0,>=1.9.0 in /Users/joseramos/anaconda3/lib/python3.11/site-packages (from ai21>=2.13.0) (2.8.2)\n",
      "Requirement already satisfied: tenacity<9.0.0,>=8.3.0 in /Users/joseramos/anaconda3/lib/python3.11/site-packages (from ai21>=2.13.0) (8.3.0)\n",
      "Requirement already satisfied: typing-extensions<5.0.0,>=4.9.0 in /Users/joseramos/anaconda3/lib/python3.11/site-packages (from ai21>=2.13.0) (4.12.2)\n",
      "Requirement already satisfied: anyio<5.0.0,>=4.4.0 in /Users/joseramos/anaconda3/lib/python3.11/site-packages (from ai21-tokenizer<1.0.0,>=0.12.0->ai21>=2.13.0) (4.4.0)\n",
      "Collecting sentencepiece<1.0.0,>=0.2.0 (from ai21-tokenizer<1.0.0,>=0.12.0->ai21>=2.13.0)\n",
      "  Using cached sentencepiece-0.2.0-cp311-cp311-macosx_10_9_x86_64.whl.metadata (7.7 kB)\n",
      "Requirement already satisfied: tokenizers<1.0.0,>=0.15.0 in /Users/joseramos/anaconda3/lib/python3.11/site-packages (from ai21-tokenizer<1.0.0,>=0.12.0->ai21>=2.13.0) (0.15.2)\n",
      "Requirement already satisfied: certifi in /Users/joseramos/anaconda3/lib/python3.11/site-packages (from httpx<0.28.0,>=0.27.0->ai21>=2.13.0) (2024.2.2)\n",
      "Requirement already satisfied: httpcore==1.* in /Users/joseramos/anaconda3/lib/python3.11/site-packages (from httpx<0.28.0,>=0.27.0->ai21>=2.13.0) (1.0.5)\n",
      "Requirement already satisfied: idna in /Users/joseramos/anaconda3/lib/python3.11/site-packages (from httpx<0.28.0,>=0.27.0->ai21>=2.13.0) (3.7)\n",
      "Requirement already satisfied: sniffio in /Users/joseramos/anaconda3/lib/python3.11/site-packages (from httpx<0.28.0,>=0.27.0->ai21>=2.13.0) (1.3.1)\n",
      "Requirement already satisfied: h11<0.15,>=0.13 in /Users/joseramos/anaconda3/lib/python3.11/site-packages (from httpcore==1.*->httpx<0.28.0,>=0.27.0->ai21>=2.13.0) (0.14.0)\n",
      "Requirement already satisfied: annotated-types>=0.4.0 in /Users/joseramos/anaconda3/lib/python3.11/site-packages (from pydantic<3.0.0,>=1.9.0->ai21>=2.13.0) (0.6.0)\n",
      "Requirement already satisfied: pydantic-core==2.20.1 in /Users/joseramos/anaconda3/lib/python3.11/site-packages (from pydantic<3.0.0,>=1.9.0->ai21>=2.13.0) (2.20.1)\n",
      "Requirement already satisfied: huggingface_hub<1.0,>=0.16.4 in /Users/joseramos/anaconda3/lib/python3.11/site-packages (from tokenizers<1.0.0,>=0.15.0->ai21-tokenizer<1.0.0,>=0.12.0->ai21>=2.13.0) (0.24.0)\n",
      "Requirement already satisfied: filelock in /Users/joseramos/anaconda3/lib/python3.11/site-packages (from huggingface_hub<1.0,>=0.16.4->tokenizers<1.0.0,>=0.15.0->ai21-tokenizer<1.0.0,>=0.12.0->ai21>=2.13.0) (3.12.2)\n",
      "Requirement already satisfied: fsspec>=2023.5.0 in /Users/joseramos/anaconda3/lib/python3.11/site-packages (from huggingface_hub<1.0,>=0.16.4->tokenizers<1.0.0,>=0.15.0->ai21-tokenizer<1.0.0,>=0.12.0->ai21>=2.13.0) (2024.3.1)\n",
      "Requirement already satisfied: packaging>=20.9 in /Users/joseramos/anaconda3/lib/python3.11/site-packages (from huggingface_hub<1.0,>=0.16.4->tokenizers<1.0.0,>=0.15.0->ai21-tokenizer<1.0.0,>=0.12.0->ai21>=2.13.0) (23.2)\n",
      "Requirement already satisfied: pyyaml>=5.1 in /Users/joseramos/anaconda3/lib/python3.11/site-packages (from huggingface_hub<1.0,>=0.16.4->tokenizers<1.0.0,>=0.15.0->ai21-tokenizer<1.0.0,>=0.12.0->ai21>=2.13.0) (6.0.1)\n",
      "Requirement already satisfied: requests in /Users/joseramos/anaconda3/lib/python3.11/site-packages (from huggingface_hub<1.0,>=0.16.4->tokenizers<1.0.0,>=0.15.0->ai21-tokenizer<1.0.0,>=0.12.0->ai21>=2.13.0) (2.31.0)\n",
      "Requirement already satisfied: tqdm>=4.42.1 in /Users/joseramos/anaconda3/lib/python3.11/site-packages (from huggingface_hub<1.0,>=0.16.4->tokenizers<1.0.0,>=0.15.0->ai21-tokenizer<1.0.0,>=0.12.0->ai21>=2.13.0) (4.66.1)\n",
      "Requirement already satisfied: charset-normalizer<4,>=2 in /Users/joseramos/anaconda3/lib/python3.11/site-packages (from requests->huggingface_hub<1.0,>=0.16.4->tokenizers<1.0.0,>=0.15.0->ai21-tokenizer<1.0.0,>=0.12.0->ai21>=2.13.0) (3.3.2)\n",
      "Requirement already satisfied: urllib3<3,>=1.21.1 in /Users/joseramos/anaconda3/lib/python3.11/site-packages (from requests->huggingface_hub<1.0,>=0.16.4->tokenizers<1.0.0,>=0.15.0->ai21-tokenizer<1.0.0,>=0.12.0->ai21>=2.13.0) (2.2.2)\n",
      "Downloading ai21-2.15.0-py3-none-any.whl (87 kB)\n",
      "\u001b[2K   \u001b[90m━━━━━━━━━━━━━━━━━━━━━━━━━━━━━━━━━━━━━━━━\u001b[0m \u001b[32m87.6/87.6 kB\u001b[0m \u001b[31m1.4 MB/s\u001b[0m eta \u001b[36m0:00:00\u001b[0ma \u001b[36m0:00:01\u001b[0m\n",
      "\u001b[?25hDownloading ai21_tokenizer-0.12.0-py3-none-any.whl (2.7 MB)\n",
      "\u001b[2K   \u001b[90m━━━━━━━━━━━━━━━━━━━━━━━━━━━━━━━━━━━━━━━━\u001b[0m \u001b[32m2.7/2.7 MB\u001b[0m \u001b[31m8.4 MB/s\u001b[0m eta \u001b[36m0:00:00\u001b[0m:00:01\u001b[0m0:01\u001b[0m\n",
      "\u001b[?25hUsing cached sentencepiece-0.2.0-cp311-cp311-macosx_10_9_x86_64.whl (1.2 MB)\n",
      "Installing collected packages: sentencepiece, ai21-tokenizer, ai21\n",
      "Successfully installed ai21-2.15.0 ai21-tokenizer-0.12.0 sentencepiece-0.2.0\n",
      "\n",
      "\u001b[1m[\u001b[0m\u001b[34;49mnotice\u001b[0m\u001b[1;39;49m]\u001b[0m\u001b[39;49m A new release of pip is available: \u001b[0m\u001b[31;49m24.1.2\u001b[0m\u001b[39;49m -> \u001b[0m\u001b[32;49m24.2\u001b[0m\n",
      "\u001b[1m[\u001b[0m\u001b[34;49mnotice\u001b[0m\u001b[1;39;49m]\u001b[0m\u001b[39;49m To update, run: \u001b[0m\u001b[32;49mpip install --upgrade pip\u001b[0m\n"
     ]
    }
   ],
   "source": [
    "!pip install -U \"ai21>=2.13.0\""
   ]
  },
  {
   "cell_type": "code",
   "execution_count": 21,
   "metadata": {},
   "outputs": [],
   "source": [
    "# import required libraries\n",
    "from ai21 import AI21Client\n",
    "from ai21.logger import set_verbose\n",
    "from ai21.models.chat import ChatMessage, ToolMessage\n",
    "from ai21.models.chat.function_tool_definition import FunctionToolDefinition\n",
    "from ai21.models.chat.tool_defintions import ToolDefinition\n",
    "from ai21.models.chat.tool_parameters import ToolParameters\n",
    "import json, requests\n",
    "\n",
    "\n",
    "# create an instance of the AI21Client\n",
    "# Sign up for a free account at https://studio.ai21.com/auth\n",
    "# Once you are signed up, find you API Key at https://studio.ai21.com/account/api-key\n",
    "client = AI21Client(api_key='',)"
   ]
  },
  {
   "cell_type": "markdown",
   "metadata": {},
   "source": [
    "### API Access\n",
    "Both of the examples in this notebook require an Alpha Vantage API key. Keys are free for anyone (for limited use) and can provide up to date financial information for investors and traders programmatically."
   ]
  },
  {
   "cell_type": "code",
   "execution_count": 22,
   "metadata": {},
   "outputs": [],
   "source": [
    "# https://www.alphavantage.co/support/#api-key\n",
    "# You'll need to sign up for a free API key at Alpha Vantage, these are free for limited usage\n",
    "ALPHA_VANTAGE_API_KEY = 'C4BS9X5EFVM3MZ6X'"
   ]
  },
  {
   "cell_type": "markdown",
   "metadata": {},
   "source": [
    "### Example 1 | Using Jamba to Call a Single Function"
   ]
  },
  {
   "cell_type": "code",
   "execution_count": 23,
   "metadata": {},
   "outputs": [],
   "source": [
    "# Define the stock information function\n",
    "def get_stock_info(symbol: str) -> dict:\n",
    "    url = f\"https://www.alphavantage.co/query?function=GLOBAL_QUOTE&symbol={symbol}&apikey={ALPHA_VANTAGE_API_KEY}\"\n",
    "    response = requests.get(url)\n",
    "    data = response.json()\n",
    "   \n",
    "    # https://www.alphavantage.co/documentation/\n",
    "    if \"Global Quote\" in data:\n",
    "        quote = data[\"Global Quote\"]\n",
    "        return {\n",
    "            \"symbol\": quote.get(\"01. symbol\", \"N/A\"),\n",
    "            \"price\": quote.get(\"05. price\", \"N/A\"),\n",
    "            \"change\": quote.get(\"09. change\", \"N/A\"),\n",
    "            \"change_percent\": quote.get(\"10. change percent\", \"N/A\"),\n",
    "            \"last_trading_day\": quote.get(\"07. latest trading day\", \"N/A\")\n",
    "        }\n",
    "    else:\n",
    "        return None"
   ]
  },
  {
   "cell_type": "code",
   "execution_count": 24,
   "metadata": {},
   "outputs": [
    {
     "data": {
      "text/plain": [
       "{'symbol': 'NVDA',\n",
       " 'price': '121.4000',\n",
       " 'change': '-2.6400',\n",
       " 'change_percent': '-2.1283%',\n",
       " 'last_trading_day': '2024-09-27'}"
      ]
     },
     "execution_count": 24,
     "metadata": {},
     "output_type": "execute_result"
    }
   ],
   "source": [
    "# Test the function manually w/o Jamba to verify results\n",
    "get_stock_info(\"NVDA\")"
   ]
  },
  {
   "cell_type": "code",
   "execution_count": 25,
   "metadata": {},
   "outputs": [],
   "source": [
    "# Initialize chat messages\n",
    "messages = [\n",
    "    ChatMessage(\n",
    "        role=\"system\",\n",
    "        content=\"You are a helpful stock market assistant. Use the supplied tool to retrieve the latest stock information for users. Always include the stock price and the percentage change in your response.\"\n",
    "    ),\n",
    "    ChatMessage(role=\"user\", content=\"Can you tell me the percentage change for the NVDA stock price over the past 2 months\"),\n",
    "]"
   ]
  },
  {
   "cell_type": "code",
   "execution_count": 26,
   "metadata": {},
   "outputs": [],
   "source": [
    "# Define the tool for getting stock information\n",
    "tool_definition = ToolDefinition(\n",
    "    type=\"function\",\n",
    "    function=FunctionToolDefinition(\n",
    "        name=\"get_stock_info\",\n",
    "        description=\"Get the latest stock information for a given stock symbol\",\n",
    "        parameters=ToolParameters(\n",
    "            type=\"object\",\n",
    "            properties={\n",
    "                \"symbol\": {\"type\": \"string\", \"description\": \"The stock symbol (e.g., AAPL for Apple)\"}\n",
    "            },\n",
    "            required=[\"symbol\"],\n",
    "        ),\n",
    "    ),\n",
    ")"
   ]
  },
  {
   "cell_type": "code",
   "execution_count": 27,
   "metadata": {},
   "outputs": [
    {
     "name": "stdout",
     "output_type": "stream",
     "text": [
      "Final response:\n",
      "The NVDA stock price is currently at 121.4000. Over the past 2 months, the stock price has changed by -2.6400, which is a percentage change of -2.1283%.\n"
     ]
    }
   ],
   "source": [
    "# Create a list of tools\n",
    "tools = [tool_definition]\n",
    "\n",
    "# Make the initial request to the model\n",
    "response = client.chat.completions.create(messages=messages, model=\"jamba-1.5-large\", tools=tools)\n",
    "\n",
    "# Process the response and handle tool calls\n",
    "assistant_message = response.choices[0].message\n",
    "messages.append(assistant_message)  # Adding the assistant message to the chat history\n",
    "result = None\n",
    "tool_calls = assistant_message.tool_calls\n",
    "\n",
    "if tool_calls:\n",
    "    tool_call = tool_calls[0]\n",
    "    if tool_call.function.name == \"get_stock_info\":\n",
    "        func_arguments = json.loads(tool_call.function.arguments)\n",
    "        if \"symbol\" in func_arguments:\n",
    "            result = get_stock_info(func_arguments[\"symbol\"])\n",
    "        else:\n",
    "            print(\"Missing 'symbol' in function arguments\")\n",
    "    else:\n",
    "        print(f\"Unexpected tool call found - {tool_call.function.name}\")\n",
    "else:\n",
    "    print(\"No tool calls found\")\n",
    "\n",
    "if result is not None:\n",
    "    # Continue the conversation by passing the stock information result back to the model\n",
    "    tool_message = ToolMessage(role=\"tool\", tool_call_id=tool_calls[0].id, content=json.dumps(result))\n",
    "    messages.append(tool_message)\n",
    "    response = client.chat.completions.create(messages=messages, model=\"jamba-1.5-large\", tools=tools)\n",
    "    print(\"Final response:\")\n",
    "    print(response.choices[0].message.content)"
   ]
  },
  {
   "cell_type": "markdown",
   "metadata": {},
   "source": [
    "### Example 2 | Using Jamba to call Multiple Functions"
   ]
  },
  {
   "cell_type": "code",
   "execution_count": 16,
   "metadata": {},
   "outputs": [],
   "source": [
    "# define the function to get the stock information from Alpha Vantage\n",
    "def get_stock_info(symbol: str) -> dict:\n",
    "    url = f\"https://www.alphavantage.co/query?function=GLOBAL_QUOTE&symbol={symbol}&apikey={ALPHA_VANTAGE_API_KEY}\"\n",
    "    response = requests.get(url)\n",
    "    data = response.json()\n",
    "   \n",
    "    if \"Global Quote\" in data:\n",
    "        quote = data[\"Global Quote\"]\n",
    "        return {\n",
    "            \"symbol\": quote.get(\"01. symbol\", \"0\"),\n",
    "            \"price\": float(quote.get(\"05. price\", \"0\")),\n",
    "            \"change\": quote.get(\"09. change\", \"N/A\"),\n",
    "            \"change_percent\": quote.get(\"10. change percent\", \"N/A\"),\n",
    "            \"last_trading_day\": quote.get(\"07. latest trading day\", \"N/A\")\n",
    "        }\n",
    "    else:\n",
    "        return None"
   ]
  },
  {
   "cell_type": "code",
   "execution_count": 17,
   "metadata": {},
   "outputs": [],
   "source": [
    "# define the function to calculate the value of the shares\n",
    "def calculate_share_value(price: float, shares: int) -> float:\n",
    "    return price * shares"
   ]
  },
  {
   "cell_type": "code",
   "execution_count": 18,
   "metadata": {},
   "outputs": [],
   "source": [
    "# Define the messages for the chat, the first message is a system message to provide guidance to the user\n",
    "# The second message is the user message that will be processed by the assistant\n",
    "messages = [\n",
    "    ChatMessage(\n",
    "        role=\"system\",\n",
    "        content=\"You are a helpful stock market assistant. Use the supplied tools to assist the user with stock information and calculations. Always use the get_stock_info tool first to retrieve the latest stock price, then use the calculate_share_value tool to determine the total value of shares. Always provide both the stock price and the calculated share value in your final response.\"\n",
    "    ),\n",
    "    ChatMessage(role=\"user\", content=\"Can you tell me the latest stock price for nVidia and calculate the value of 400 shares?\"),\n",
    "]"
   ]
  },
  {
   "cell_type": "code",
   "execution_count": 19,
   "metadata": {},
   "outputs": [],
   "source": [
    "# define to Jamba how to handle the api call to get the stock information\n",
    "get_stock_info_tool = ToolDefinition(\n",
    "    type=\"function\",\n",
    "    function=FunctionToolDefinition(\n",
    "        name=\"get_stock_info\",\n",
    "        description=\"Get the latest stock information for a given stock symbol\",\n",
    "        parameters=ToolParameters(\n",
    "            type=\"object\",\n",
    "            properties={\n",
    "                \"symbol\": {\"type\": \"string\", \"description\": \"The stock symbol (e.g., AAPL for Apple)\"}\n",
    "            },\n",
    "            required=[\"symbol\"],\n",
    "        ),\n",
    "    ),\n",
    ")\n",
    "\n",
    "# define to Jamba how to calculate the share value\n",
    "calculate_share_value_tool = ToolDefinition(\n",
    "    type=\"function\",\n",
    "    function=FunctionToolDefinition(\n",
    "        name=\"calculate_share_value\",\n",
    "        description=\"Calculate the total value of shares by multiplying price times number of shares\",\n",
    "        parameters=ToolParameters(\n",
    "            type=\"object\",\n",
    "            properties={\n",
    "                \"price\": {\"type\": \"number\", \"description\": \"The price per share\"},\n",
    "                \"shares\": {\"type\": \"integer\", \"description\": \"The number of shares\"}\n",
    "            },\n",
    "            required=[\"price\", \"shares\"],\n",
    "        ),\n",
    "    ),\n",
    ")"
   ]
  },
  {
   "cell_type": "code",
   "execution_count": 34,
   "metadata": {},
   "outputs": [],
   "source": [
    "# define the tools to be used\n",
    "tools = [get_stock_info_tool, calculate_share_value_tool]\n",
    "\n",
    "# Make the initial request to the model\n",
    "def process_tool_calls(assistant_message):\n",
    "    tool_call_id_to_result = {}\n",
    "    tool_calls = assistant_message.tool_calls\n",
    "    if tool_calls:\n",
    "        for tool_call in tool_calls:\n",
    "            if tool_call.function.name == \"get_stock_info\":\n",
    "                func_arguments = json.loads(tool_call.function.arguments)\n",
    "                if \"symbol\" in func_arguments:\n",
    "                    result = get_stock_info(func_arguments[\"symbol\"])\n",
    "                    tool_call_id_to_result[tool_call.id] = result\n",
    "                else:\n",
    "                    print(f\"Got unexpected arguments in function call - {func_arguments}\")\n",
    "            elif tool_call.function.name == \"calculate_share_value\":\n",
    "                func_arguments = json.loads(tool_call.function.arguments)\n",
    "                if \"price\" in func_arguments and \"shares\" in func_arguments:\n",
    "                    result = calculate_share_value(func_arguments[\"price\"], func_arguments[\"shares\"])\n",
    "                    tool_call_id_to_result[tool_call.id] = result\n",
    "                else:\n",
    "                    print(f\"Got unexpected arguments in function call - {func_arguments}\")\n",
    "            else:\n",
    "                print(f\"Unexpected tool call found - {tool_call.function.name}\")\n",
    "    return tool_call_id_to_result\n",
    "\n",
    "# Initial response\n",
    "response = client.chat.completions.create(messages=messages, model=\"jamba-1.5-large\", tools=tools)\n",
    "assistant_message = response.choices[0].message\n",
    "messages.append(assistant_message)\n",
    "tool_call_id_to_result = process_tool_calls(assistant_message)"
   ]
  },
  {
   "cell_type": "code",
   "execution_count": null,
   "metadata": {},
   "outputs": [],
   "source": [
    "# OPTIONAL | If both tools weren't used, prompt for completion\n",
    "# if len(tool_call_id_to_result) < 2:\n",
    "#     messages.append(ChatMessage(\n",
    "#         role=\"user\",\n",
    "#         content=\"Please make sure to calculate the value of 100 shares using the stock price you retrieved.\"\n",
    "#     ))\n",
    "#     response = client.chat.completions.create(messages=messages, model=\"jamba-1.5-large\", tools=tools)\n",
    "#     assistant_message = response.choices[0].message\n",
    "#     messages.append(assistant_message)\n",
    "    \n",
    "#     additional_results = process_tool_calls(assistant_message)\n",
    "#     tool_call_id_to_result.update(additional_results)"
   ]
  },
  {
   "cell_type": "code",
   "execution_count": 35,
   "metadata": {},
   "outputs": [
    {
     "data": {
      "text/plain": [
       "'The latest stock price for nVidia (NVDA) is 123.51. The value of 400 shares is 49404.0.'"
      ]
     },
     "execution_count": 35,
     "metadata": {},
     "output_type": "execute_result"
    }
   ],
   "source": [
    "# Add tool results to messages\n",
    "for tool_id_called, result in tool_call_id_to_result.items():\n",
    "    tool_message = ToolMessage(role=\"tool\", tool_call_id=tool_id_called, content=str(result))\n",
    "    messages.append(tool_message)\n",
    "\n",
    "# Final response\n",
    "response = client.chat.completions.create(messages=messages, model=\"jamba-1.5-large\", tools=tools)\n",
    "final_response = response.choices[0].message.content\n",
    "final_response"
   ]
  }
 ],
 "metadata": {
  "kernelspec": {
   "display_name": "Python 3",
   "language": "python",
   "name": "python3"
  },
  "language_info": {
   "codemirror_mode": {
    "name": "ipython",
    "version": 3
   },
   "file_extension": ".py",
   "mimetype": "text/x-python",
   "name": "python",
   "nbconvert_exporter": "python",
   "pygments_lexer": "ipython3",
   "version": "3.11.5"
  }
 },
 "nbformat": 4,
 "nbformat_minor": 2
}
